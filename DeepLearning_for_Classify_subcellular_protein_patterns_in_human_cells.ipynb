{
 "metadata": {
  "language_info": {
   "codemirror_mode": {
    "name": "ipython",
    "version": 3
   },
   "file_extension": ".py",
   "mimetype": "text/x-python",
   "name": "python",
   "nbconvert_exporter": "python",
   "pygments_lexer": "ipython3",
   "version": "3.7.6-final"
  },
  "orig_nbformat": 2,
  "kernelspec": {
   "name": "python3",
   "display_name": "Python 3"
  }
 },
 "nbformat": 4,
 "nbformat_minor": 2,
 "cells": [
  {
   "cell_type": "code",
   "execution_count": 1,
   "metadata": {},
   "outputs": [],
   "source": [
    "%matplotlib inline\n",
    "\n",
    "import os\n",
    "\n",
    "#if using Theano with GPU\n",
    "#os.environ[\"KERAS_BACKEND\"] = \"tensorflow\"\n",
    "\n",
    "import random\n",
    "import numpy as np\n",
    "import keras\n",
    "\n",
    "import matplotlib.pyplot as plt\n",
    "from matplotlib.pyplot import imshow\n",
    "\n",
    "from keras.preprocessing import image\n",
    "from keras.applications.imagenet_utils import preprocess_input\n",
    "from keras.models import Sequential\n",
    "from keras.layers import Dense, Dropout, Flatten, Activation\n",
    "from keras.layers import Conv2D, MaxPooling2D\n",
    "from keras.models import Model"
   ]
  },
  {
   "cell_type": "code",
   "execution_count": 5,
   "metadata": {},
   "outputs": [
    {
     "output_type": "stream",
     "name": "stdout",
     "text": [
      "['101_ObjectCategories\\\\accordion', '101_ObjectCategories\\\\anchor', '101_ObjectCategories\\\\ant', '101_ObjectCategories\\\\barrel', '101_ObjectCategories\\\\bass', '101_ObjectCategories\\\\beaver', '101_ObjectCategories\\\\binocular', '101_ObjectCategories\\\\bonsai', '101_ObjectCategories\\\\brain', '101_ObjectCategories\\\\brontosaurus', '101_ObjectCategories\\\\buddha', '101_ObjectCategories\\\\butterfly', '101_ObjectCategories\\\\camera', '101_ObjectCategories\\\\cannon', '101_ObjectCategories\\\\car_side', '101_ObjectCategories\\\\ceiling_fan', '101_ObjectCategories\\\\cellphone', '101_ObjectCategories\\\\chair', '101_ObjectCategories\\\\chandelier', '101_ObjectCategories\\\\cougar_body', '101_ObjectCategories\\\\cougar_face', '101_ObjectCategories\\\\crab', '101_ObjectCategories\\\\crayfish', '101_ObjectCategories\\\\crocodile', '101_ObjectCategories\\\\crocodile_head', '101_ObjectCategories\\\\cup', '101_ObjectCategories\\\\dalmatian', '101_ObjectCategories\\\\dollar_bill', '101_ObjectCategories\\\\dolphin', '101_ObjectCategories\\\\dragonfly', '101_ObjectCategories\\\\electric_guitar', '101_ObjectCategories\\\\elephant', '101_ObjectCategories\\\\emu', '101_ObjectCategories\\\\euphonium', '101_ObjectCategories\\\\ewer', '101_ObjectCategories\\\\ferry', '101_ObjectCategories\\\\flamingo', '101_ObjectCategories\\\\flamingo_head', '101_ObjectCategories\\\\garfield', '101_ObjectCategories\\\\gerenuk', '101_ObjectCategories\\\\gramophone', '101_ObjectCategories\\\\grand_piano', '101_ObjectCategories\\\\hawksbill', '101_ObjectCategories\\\\headphone', '101_ObjectCategories\\\\hedgehog', '101_ObjectCategories\\\\helicopter', '101_ObjectCategories\\\\ibis', '101_ObjectCategories\\\\inline_skate', '101_ObjectCategories\\\\joshua_tree', '101_ObjectCategories\\\\kangaroo', '101_ObjectCategories\\\\ketch', '101_ObjectCategories\\\\lamp', '101_ObjectCategories\\\\laptop', '101_ObjectCategories\\\\Leopards', '101_ObjectCategories\\\\llama', '101_ObjectCategories\\\\lobster', '101_ObjectCategories\\\\lotus', '101_ObjectCategories\\\\mandolin', '101_ObjectCategories\\\\mayfly', '101_ObjectCategories\\\\menorah', '101_ObjectCategories\\\\metronome', '101_ObjectCategories\\\\minaret', '101_ObjectCategories\\\\nautilus', '101_ObjectCategories\\\\octopus', '101_ObjectCategories\\\\okapi', '101_ObjectCategories\\\\pagoda', '101_ObjectCategories\\\\panda', '101_ObjectCategories\\\\pigeon', '101_ObjectCategories\\\\pizza', '101_ObjectCategories\\\\platypus', '101_ObjectCategories\\\\pyramid', '101_ObjectCategories\\\\revolver', '101_ObjectCategories\\\\rhino', '101_ObjectCategories\\\\rooster', '101_ObjectCategories\\\\saxophone', '101_ObjectCategories\\\\schooner', '101_ObjectCategories\\\\scissors', '101_ObjectCategories\\\\scorpion', '101_ObjectCategories\\\\sea_horse', '101_ObjectCategories\\\\snoopy', '101_ObjectCategories\\\\soccer_ball', '101_ObjectCategories\\\\stapler', '101_ObjectCategories\\\\starfish', '101_ObjectCategories\\\\stegosaurus', '101_ObjectCategories\\\\stop_sign', '101_ObjectCategories\\\\strawberry', '101_ObjectCategories\\\\sunflower', '101_ObjectCategories\\\\tick', '101_ObjectCategories\\\\trilobite', '101_ObjectCategories\\\\umbrella', '101_ObjectCategories\\\\watch', '101_ObjectCategories\\\\water_lilly', '101_ObjectCategories\\\\wheelchair', '101_ObjectCategories\\\\wild_cat', '101_ObjectCategories\\\\windsor_chair', '101_ObjectCategories\\\\wrench', '101_ObjectCategories\\\\yin_yang']\n"
     ]
    }
   ],
   "source": [
    "root = '101_ObjectCategories'\n",
    "exclude = ['BACKGROUND_Google', 'Motorbikes', 'airplanes', 'Faces_easy', 'Faces']\n",
    "train_split, val_split = 0.7, 0.15\n",
    "\n",
    "categories = [x[0] for x in os.walk(root) if x[0]][1:]\n",
    "categories = [c for c in categories if c not in [os.path.join(root, e) for e in exclude]]\n",
    "\n",
    "print(categories)"
   ]
  },
  {
   "cell_type": "code",
   "execution_count": 6,
   "metadata": {},
   "outputs": [],
   "source": [
    "#This function is useful for pre-processing the data into an image and input vector.\n",
    "# helper function to load image and return it and input vector\n",
    "def get_image(path):\n",
    "    img = image.load_img(path, target_size=(224, 224))\n",
    "    x = image.img_to_array(img)\n",
    "    x = np.expand_dims(x, axis=0)\n",
    "    x = preprocess_input(x)\n",
    "    return img, x"
   ]
  },
  {
   "cell_type": "code",
   "execution_count": 7,
   "metadata": {},
   "outputs": [],
   "source": [
    "#Load all the images from root folder\n",
    "data = []\n",
    "for c, category in enumerate(categories):\n",
    "    images = [os.path.join(dp, f) for dp, dn, filenames \n",
    "              in os.walk(category) for f in filenames \n",
    "              if os.path.splitext(f)[1].lower() in ['.jpg','.png','.jpeg']]\n",
    "    for img_path in images:\n",
    "        img, x = get_image(img_path)\n",
    "        data.append({'x':np.array(x[0]), 'y':c})\n",
    "\n",
    "# count the number of classes\n",
    "num_classes = len(categories)"
   ]
  },
  {
   "cell_type": "code",
   "execution_count": 8,
   "metadata": {},
   "outputs": [],
   "source": [
    "random.shuffle(data)"
   ]
  },
  {
   "cell_type": "code",
   "execution_count": 9,
   "metadata": {},
   "outputs": [],
   "source": [
    "#create training / validation / test split (70%, 15%, 15%)\n",
    "idx_val = int(train_split * len(data))\n",
    "idx_test = int((train_split + val_split) * len(data))\n",
    "train = data[:idx_val]\n",
    "val = data[idx_val:idx_test]\n",
    "test = data[idx_test:]"
   ]
  },
  {
   "cell_type": "code",
   "execution_count": null,
   "metadata": {},
   "outputs": [],
   "source": []
  }
 ]
}